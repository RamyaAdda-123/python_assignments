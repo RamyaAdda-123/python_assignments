{
 "cells": [
  {
   "cell_type": "code",
   "execution_count": 2,
   "metadata": {},
   "outputs": [
    {
     "name": "stdout",
     "output_type": "stream",
     "text": [
      "24\n"
     ]
    }
   ],
   "source": [
    "'''1.1 Write a Python Program to implement your own myreduce() function which works exactly like\n",
    "Python's built-in function reduce()'''\n",
    "def myreduce(func,sequence):\n",
    "    res=sequence[0]\n",
    "    for i in sequence[1:]:\n",
    "        res=func(res,i)\n",
    "    return res\n",
    "def mul(x,y):\n",
    "    return x*y\n",
    "l=[1,2,3,4]\n",
    "k=myreduce(mul,l)\n",
    "print(k)"
   ]
  },
  {
   "cell_type": "code",
   "execution_count": 3,
   "metadata": {},
   "outputs": [
    {
     "name": "stdout",
     "output_type": "stream",
     "text": [
      "The filtered vowels are:\n",
      "a\n",
      "e\n",
      "i\n",
      "o\n"
     ]
    }
   ],
   "source": [
    "'''1.2\n",
    "Write a Python program to implement your own myfilter() function which works exactly like\n",
    "Python's built-in function filter()'''\n",
    "def myfilter(func,seq):\n",
    "    a=[]\n",
    "    for k in seq:\n",
    "        if func(k)==True:\n",
    "            a.append(k)\n",
    "    return a\n",
    "alphabets = ['a', 'b', 'd', 'e', 'i', 'j', 'o']\n",
    "def func(n):\n",
    "    vowels = ['a', 'e', 'i', 'o', 'u']\n",
    "    if(n in vowels):\n",
    "        return True\n",
    "    else:\n",
    "        return False\n",
    "filteredVowels = myfilter(func, alphabets)\n",
    "print('The filtered vowels are:')\n",
    "for vowel in filteredVowels:\n",
    "    print(vowel)\n"
   ]
  },
  {
   "cell_type": "code",
   "execution_count": 4,
   "metadata": {},
   "outputs": [
    {
     "name": "stdout",
     "output_type": "stream",
     "text": [
      "['A', 'C', 'A', 'D', 'G', 'I', 'L', 'D']\n",
      "['X', 'Y', 'Z', 'XX', 'YY', 'ZZ', 'XXX', 'YYY', 'ZZZ']\n",
      "['X', 'XX', 'XXX', 'Y', 'YY', 'YYY', 'Z', 'ZZ', 'ZZZ']\n",
      "[[2], [3], [4], [3], [4], [5], [4], [5], [6]]\n",
      "[[2, 3, 4, 5], [3, 4, 5, 6], [4, 5, 6, 7], [5, 6, 7, 8]]\n",
      "[(1, 1), (1, 2), (1, 3), (2, 1), (2, 2), (2, 3), (3, 1), (3, 2), (3, 3)]\n"
     ]
    }
   ],
   "source": [
    "'''2.\n",
    "Implement List comprehensions to produce the following lists.\n",
    "Write List comprehensions to produce the following Lists\n",
    "['A', 'C', 'A', 'D', 'G', 'I', ’L’, ‘ D’]\n",
    "['x', 'xx', 'xxx', 'xxxx', 'y', 'yy', 'yyy', 'yyyy', 'z', 'zz', 'zzz', 'zzzz']\n",
    "['x', 'y', 'z', 'xx', 'yy', 'zz', 'xx', 'yy', 'zz', 'xxxx', 'yyyy', 'zzzz']\n",
    "[[2], [3], [4], [3], [4], [5], [4], [5], [6]]\n",
    "[[2, 3, 4, 5], [3, 4, 5, 6], [4, 5, 6, 7], [5, 6, 7, 8]]\n",
    "[(1, 1), (2, 1), (3, 1), (1, 2), (2, 2), (3, 2), (1, 3), (2, 3), (3, 3)]'''\n",
    "l=['A', 'C', 'A', 'D', 'G', 'I', 'L', 'D']\n",
    "s=['X','Y','Z']\n",
    "print([i for i in l])\n",
    "print([i*j for j in range(1,4) for i in s])\n",
    "print([i*j for i in s for j in range(1,4)])\n",
    "print([[i+j] for i in range(2,5) for j in range(3)])\n",
    "print([[i+j for i in range(2,6)] for j in range(4)])\n",
    "print([(i,j) for i in range(1,4) for j in range(1,4)])\n"
   ]
  },
  {
   "cell_type": "code",
   "execution_count": 5,
   "metadata": {},
   "outputs": [
    {
     "name": "stdout",
     "output_type": "stream",
     "text": [
      "enter list of elements: ramya,sandhya,python,self,learn\n",
      "sandhya\n"
     ]
    }
   ],
   "source": [
    "'''3.\n",
    "Implement a function longestWord() that takes a list of words and returns the longest one.'''\n",
    "def longest_word(li):\n",
    "    count=0\n",
    "    temp=' '\n",
    "    for i in li:\n",
    "        if len(i)>count:\n",
    "            count=len(i)\n",
    "            temp=i\n",
    "    return temp\n",
    "li=list(map(str,input(\"enter list of elements: \").split(\",\")))\n",
    "print(longest_word(li))\n"
   ]
  },
  {
   "cell_type": "code",
   "execution_count": 6,
   "metadata": {},
   "outputs": [
    {
     "name": "stdout",
     "output_type": "stream",
     "text": [
      "6.0\n"
     ]
    }
   ],
   "source": [
    "'''Task 2:\n",
    "1.1\n",
    "Write a Python Program(with class concepts) to find the area of the triangle using the below\n",
    "formula.\n",
    "area = (s*(s-a)*(s-b)*(s-c)) ** 0.5\n",
    "Function to take the length of the sides of triangle from user should be defined in the parent\n",
    "class and function to calculate the area should be defined in subclass.'''\n",
    "class Triangle:\n",
    "    def __init__(self,a,b,c):\n",
    "        self.a=a\n",
    "        self.b=b\n",
    "        self.c=c\n",
    "class Area(Triangle):\n",
    "    def __init__(self,*args):\n",
    "        super(Area,self).__init__(*args)\n",
    "    def area(self):\n",
    "        s=(self.a+self.b+self.c)/2\n",
    "        res=((s*(s-self.a)*(s-self.b)*(s-self.c))**0.5)\n",
    "        return res\n",
    "a=Area(3,4,5)\n",
    "print(a.area())\n",
    "    \n",
    "\n"
   ]
  },
  {
   "cell_type": "code",
   "execution_count": 8,
   "metadata": {},
   "outputs": [
    {
     "name": "stdout",
     "output_type": "stream",
     "text": [
      "enter list of words: ramya,sandhya,ram,python,self,learning\n",
      "enter the length of string: 5\n",
      "['sandhya', 'python', 'learning']\n"
     ]
    }
   ],
   "source": [
    "'''1.2\n",
    "Write a function filter_long_words() that takes a list of words and an integer n and returns the list\n",
    "of words that are longer than n.'''\n",
    "def filter_long_words(li,n):\n",
    "    a=[item for item in li if len(item)>n]\n",
    "    return a\n",
    "l=list(map(str,input(\"enter list of words: \").split(\",\")))\n",
    "n=int(input(\"enter the length of string: \"))\n",
    "print(filter_long_words(l,n))\n"
   ]
  },
  {
   "cell_type": "code",
   "execution_count": 9,
   "metadata": {},
   "outputs": [
    {
     "name": "stdout",
     "output_type": "stream",
     "text": [
      "enter list of word: ramya,python,sandhya,self,learn\n",
      "[5, 6, 7, 4, 5]\n"
     ]
    }
   ],
   "source": [
    "'''2.1\n",
    "Write a Python program using function concept that maps list of words into a list of integers\n",
    "representing the lengths of the corresponding words .\n",
    "Hint: If a list [ ab,cde,erty] is passed on to the python function output should come as [2,3,4]\n",
    "Here 2,3 and 4 are the lengths of the words in the list.'''\n",
    "li=list(map(str,input(\"enter list of word: \").split(\",\")))\n",
    "def maps(li):\n",
    "    return [len(items) for items in li]\n",
    "print(maps(li))\n"
   ]
  },
  {
   "cell_type": "code",
   "execution_count": 10,
   "metadata": {},
   "outputs": [
    {
     "name": "stdout",
     "output_type": "stream",
     "text": [
      "enter characte: a\n",
      "True\n"
     ]
    }
   ],
   "source": [
    "'''2.2\n",
    "Write a Python function which takes a character (i.e. a string of length 1) and returns True if it is\n",
    "a vowel, False otherwise.'''\n",
    "vowels = ['a', 'e', 'i', 'o', 'u']\n",
    "def vowel(ch):\n",
    "    if ch in vowels:\n",
    "        return True\n",
    "    else:\n",
    "        return False\n",
    "print(vowel(input(\"enter characte: \")))\n",
    "    \n"
   ]
  },
  {
   "cell_type": "raw",
   "metadata": {},
   "source": []
  }
 ],
 "metadata": {
  "kernelspec": {
   "display_name": "Python 3",
   "language": "python",
   "name": "python3"
  },
  "language_info": {
   "codemirror_mode": {
    "name": "ipython",
    "version": 3
   },
   "file_extension": ".py",
   "mimetype": "text/x-python",
   "name": "python",
   "nbconvert_exporter": "python",
   "pygments_lexer": "ipython3",
   "version": "3.7.6"
  }
 },
 "nbformat": 4,
 "nbformat_minor": 4
}
